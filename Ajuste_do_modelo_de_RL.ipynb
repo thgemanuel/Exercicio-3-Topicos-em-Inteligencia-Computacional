{
  "nbformat": 4,
  "nbformat_minor": 0,
  "metadata": {
    "colab": {
      "name": "Ajuste do modelo de RL",
      "provenance": [],
      "collapsed_sections": [],
      "include_colab_link": true
    },
    "kernelspec": {
      "name": "python3",
      "display_name": "Python 3"
    }
  },
  "cells": [
    {
      "cell_type": "markdown",
      "metadata": {
        "id": "view-in-github",
        "colab_type": "text"
      },
      "source": [
        "<a href=\"https://colab.research.google.com/github/thgemanuel/Exercicio-3-Topicos-em-Inteligencia-Computacional/blob/main/Ajuste_do_modelo_de_RL.ipynb\" target=\"_parent\"><img src=\"https://colab.research.google.com/assets/colab-badge.svg\" alt=\"Open In Colab\"/></a>"
      ]
    },
    {
      "cell_type": "markdown",
      "metadata": {
        "id": "r4OQ6NSUAMFH"
      },
      "source": [
        "\n",
        "# **Ajuste do modelo de RL**\n"
      ]
    },
    {
      "cell_type": "markdown",
      "metadata": {
        "id": "wVhz5i7gXEon"
      },
      "source": [
        "# Exercício 3\n",
        "\n",
        "Aluno: Thiago Emanuel\n",
        "\n",
        "Considere, as características da base de dados Diabetes do exercício anterior:\n",
        "\n",
        "Para cada característica individualmente calcule o R2, mostre o histograma e o gráfico de resíduos, e calcule o teste de normalidade. Compare o resultado com a característica \"age\".\n",
        "Adicionalmente, também mostre o histograma e o gráfico de resíduos, para o processo com as duas características (regressão com duas variáveis) do exercício anterior."
      ]
    },
    {
      "cell_type": "markdown",
      "metadata": {
        "id": "gMQ5-gwtT7lE"
      },
      "source": [
        "\n",
        "# **Base de dados Diabetes**\n",
        "---\n",
        "\n"
      ]
    },
    {
      "cell_type": "code",
      "metadata": {
        "id": "GL_2XQEv_i9R",
        "colab": {
          "base_uri": "https://localhost:8080/",
          "height": 281
        },
        "outputId": "a23d0d9f-ecb2-4d82-a446-1135d1455f69"
      },
      "source": [
        "import matplotlib.pyplot as plt\n",
        "import numpy as np\n",
        "import pandas\n",
        "from sklearn import linear_model\n",
        "from sklearn.datasets import load_diabetes\n",
        "\n",
        "diabetes = load_diabetes()\n",
        "y = np.array([0.6,-12,-2.5,2,-15,46,25,17.08,17,15.29,10,13.7,-3,24,14,16,-32,14,-0.9,-15])\n",
        "tabela = pandas.DataFrame(diabetes.data)\n",
        "tabela.columns = diabetes.feature_names\n",
        "tabela['y'] = diabetes.target\n",
        "\n",
        "plt.hist(y)\n",
        "plt.title('Histograma de y')\n",
        "plt.show()\n"
      ],
      "execution_count": 3,
      "outputs": [
        {
          "output_type": "display_data",
          "data": {
            "image/png": "[encoded data removed]",
            "text/plain": [
              "<Figure size 432x288 with 1 Axes>"
            ]
          },
          "metadata": {
            "needs_background": "light"
          }
        }
      ]
    },
    {
      "cell_type": "code",
      "metadata": {
        "id": "RSMojpqf6z0w",
        "colab": {
          "base_uri": "https://localhost:8080/"
        },
        "outputId": "afa2ad05-4a25-4ecc-e7ee-850d1285e730"
      },
      "source": [
        "X = tabela['age']\n",
        "X_treinamento = X[:-20].array.to_numpy().reshape(-1,1)\n",
        "X_teste = X[-20:].array.to_numpy().reshape(-1,1)\n",
        "\n",
        "X_bmi = tabela['bmi']\n",
        "X_treinamento_bmi = X_bmi[:-20].array.to_numpy().reshape(-1,1)\n",
        "#Para validar o modelo, usei os 20 últimos registros\n",
        "X_teste_bmi = X_bmi[-20:].array.to_numpy().reshape(-1,1)\n",
        "\n",
        "X_bp = tabela['bp']\n",
        "X_treinamento_bp = X_bp[:-20].array.to_numpy().reshape(-1,1)\n",
        "#Para validar o modelo, usei os 20 últimos registros\n",
        "X_teste_bp = X_bp[-20:].array.to_numpy().reshape(-1,1)\n",
        "\n",
        "X_bmi_bp = tabela.loc[:,'bmi':'bp']\n",
        "X_treinamento_bmi_bp = X_bmi_bp.head(X_bmi_bp.shape[0] - 20)\n",
        "#Para validar o modelo, usei os 20 últimos registros\n",
        "X_teste_bmi_pb =  X_bmi_bp.tail(20)\n",
        "\n",
        "y = tabela['y']\n",
        "y_treinamento = y[:-20]\n",
        "y_teste = y[-20:].array.to_numpy().reshape(-1,1)\n",
        "\n",
        "\n",
        "regr = linear_model.LinearRegression()\n",
        "\n",
        "regr.fit(X_treinamento, y_treinamento)\n",
        "\n",
        "# treina o modelo com os dados treinamento\n",
        "regr.fit(X_treinamento, y_treinamento)\n",
        "\n",
        "#cria o modelo de regressão linear\n",
        "regr_bmi = linear_model.LinearRegression()\n",
        "\n",
        "# treina o modelo com os dados treinamento\n",
        "regr_bmi.fit(X_treinamento_bmi, y_treinamento)\n",
        "\n",
        "#cria o modelo de regressão linear\n",
        "regr_bp = linear_model.LinearRegression()\n",
        "\n",
        "# treina o modelo com os dados treinamento\n",
        "regr_bp.fit(X_treinamento_bp, y_treinamento)\n",
        "\n",
        "#cria o modelo de regressão linear\n",
        "regr_bmi_bp = linear_model.LinearRegression()\n",
        "\n",
        "# treina o modelo com os dados treinamento\n",
        "regr_bmi_bp.fit(X_treinamento_bmi_bp, y_treinamento)"
      ],
      "execution_count": 4,
      "outputs": [
        {
          "output_type": "execute_result",
          "data": {
            "text/plain": [
              "LinearRegression(copy_X=True, fit_intercept=True, n_jobs=None, normalize=False)"
            ]
          },
          "metadata": {},
          "execution_count": 4
        }
      ]
    },
    {
      "cell_type": "code",
      "metadata": {
        "id": "y0leyaaZ7M2x",
        "colab": {
          "base_uri": "https://localhost:8080/",
          "height": 1000
        },
        "outputId": "d94eac37-49c1-4441-8dfe-a5abdd1263da"
      },
      "source": [
        "diabetes_y_pred = regr.predict(X_teste)\n",
        "\n",
        "res = y_teste - diabetes_y_pred.reshape(-1,1)\n",
        "\n",
        "plt.hist(res)\n",
        "plt.title('Histograma dos resíduos da regressão - age')\n",
        "plt.show()\n",
        "\n",
        "# BMI\n",
        "diabetes_y_pred_bmi = regr_bmi.predict(X_teste_bmi)\n",
        "res_bmi = y_teste - diabetes_y_pred_bmi.reshape(-1,1)\n",
        "\n",
        "plt.hist(res_bmi)\n",
        "plt.title('Histograma dos resíduos da regressão - bmi')\n",
        "plt.show()\n",
        "\n",
        "# BP\n",
        "diabetes_y_pred_bp = regr_bp.predict(X_teste_bp)\n",
        "res_bp = y_teste - diabetes_y_pred_bp.reshape(-1,1)\n",
        "\n",
        "plt.hist(res_bp)\n",
        "plt.title('Histograma dos resíduos da regressão - bp')\n",
        "plt.show()\n",
        "\n",
        "# BMI_BP\n",
        "diabetes_y_pred_bmi_bp = regr_bmi_bp.predict(X_teste_bmi_pb)\n",
        "res_bmi_bp = y_teste - diabetes_y_pred_bmi_bp.reshape(-1,1)\n",
        "\n",
        "plt.hist(res_bmi_bp)\n",
        "plt.title('Histograma dos resíduos da regressão - bmi e pb')\n",
        "plt.show()"
      ],
      "execution_count": 5,
      "outputs": [
        {
          "output_type": "display_data",
          "data": {
            "image/png": "[encoded data removed]",
            "text/plain": [
              "<Figure size 432x288 with 1 Axes>"
            ]
          },
          "metadata": {
            "needs_background": "light"
          }
        },
        {
          "output_type": "display_data",
          "data": {
            "image/png": "[encoded data removed]",
            "text/plain": [
              "<Figure size 432x288 with 1 Axes>"
            ]
          },
          "metadata": {
            "needs_background": "light"
          }
        },
        {
          "output_type": "display_data",
          "data": {
            "image/png": "[encoded data removed]",
            "text/plain": [
              "<Figure size 432x288 with 1 Axes>"
            ]
          },
          "metadata": {
            "needs_background": "light"
          }
        },
        {
          "output_type": "display_data",
          "data": {
            "image/png": "[encoded data removed]",
            "text/plain": [
              "<Figure size 432x288 with 1 Axes>"
            ]
          },
          "metadata": {
            "needs_background": "light"
          }
        }
      ]
    },
    {
      "cell_type": "markdown",
      "metadata": {
        "id": "7gubjUEP8u8t"
      },
      "source": [
        "**O que esse gráfico nos diz?**"
      ]
    },
    {
      "cell_type": "code",
      "metadata": {
        "id": "NYUlCb-Z91SO",
        "colab": {
          "base_uri": "https://localhost:8080/",
          "height": 231
        },
        "outputId": "79adf869-cc82-432e-9571-7e403f554c57"
      },
      "source": [
        "p_value = normal_ad(res)[1]\n",
        "print('p-value abaixo 0.05 geralmente significa não normal:', round(p_value[0],2))\n",
        "\n",
        "p_value_bmi = normal_ad(res_bmi)[1]\n",
        "print('p-value abaixo 0.05 geralmente significa não normal:', round(p_value_bmi[0],2))\n",
        "\n",
        "p_value_bp = normal_ad(res_bp)[1]\n",
        "print('p-value abaixo 0.05 geralmente significa não normal:', round(p_value_bp[0],2))\n",
        "\n",
        "p_value_bmi_bp = normal_ad(res_bmi_bp)[1]\n",
        "print('p-value abaixo 0.05 geralmente significa não normal:', round(p_value_bmi_bp[0],2))"
      ],
      "execution_count": 6,
      "outputs": [
        {
          "output_type": "error",
          "ename": "NameError",
          "evalue": "ignored",
          "traceback": [
            "\u001b[0;31m---------------------------------------------------------------------------\u001b[0m",
            "\u001b[0;31mNameError\u001b[0m                                 Traceback (most recent call last)",
            "\u001b[0;32m<ipython-input-6-0522133ef832>\u001b[0m in \u001b[0;36m<module>\u001b[0;34m()\u001b[0m\n\u001b[0;32m----> 1\u001b[0;31m \u001b[0mp_value\u001b[0m \u001b[0;34m=\u001b[0m \u001b[0mnormal_ad\u001b[0m\u001b[0;34m(\u001b[0m\u001b[0mres\u001b[0m\u001b[0;34m)\u001b[0m\u001b[0;34m[\u001b[0m\u001b[0;36m1\u001b[0m\u001b[0;34m]\u001b[0m\u001b[0;34m\u001b[0m\u001b[0;34m\u001b[0m\u001b[0m\n\u001b[0m\u001b[1;32m      2\u001b[0m \u001b[0mprint\u001b[0m\u001b[0;34m(\u001b[0m\u001b[0;34m'p-value abaixo 0.05 geralmente significa não normal:'\u001b[0m\u001b[0;34m,\u001b[0m \u001b[0mround\u001b[0m\u001b[0;34m(\u001b[0m\u001b[0mp_value\u001b[0m\u001b[0;34m[\u001b[0m\u001b[0;36m0\u001b[0m\u001b[0;34m]\u001b[0m\u001b[0;34m,\u001b[0m\u001b[0;36m2\u001b[0m\u001b[0;34m)\u001b[0m\u001b[0;34m)\u001b[0m\u001b[0;34m\u001b[0m\u001b[0;34m\u001b[0m\u001b[0m\n\u001b[1;32m      3\u001b[0m \u001b[0;34m\u001b[0m\u001b[0m\n\u001b[1;32m      4\u001b[0m \u001b[0mp_value_bmi\u001b[0m \u001b[0;34m=\u001b[0m \u001b[0mnormal_ad\u001b[0m\u001b[0;34m(\u001b[0m\u001b[0mres_bmi\u001b[0m\u001b[0;34m)\u001b[0m\u001b[0;34m[\u001b[0m\u001b[0;36m1\u001b[0m\u001b[0;34m]\u001b[0m\u001b[0;34m\u001b[0m\u001b[0;34m\u001b[0m\u001b[0m\n\u001b[1;32m      5\u001b[0m \u001b[0mprint\u001b[0m\u001b[0;34m(\u001b[0m\u001b[0;34m'p-value abaixo 0.05 geralmente significa não normal:'\u001b[0m\u001b[0;34m,\u001b[0m \u001b[0mround\u001b[0m\u001b[0;34m(\u001b[0m\u001b[0mp_value_bmi\u001b[0m\u001b[0;34m[\u001b[0m\u001b[0;36m0\u001b[0m\u001b[0;34m]\u001b[0m\u001b[0;34m,\u001b[0m\u001b[0;36m2\u001b[0m\u001b[0;34m)\u001b[0m\u001b[0;34m)\u001b[0m\u001b[0;34m\u001b[0m\u001b[0;34m\u001b[0m\u001b[0m\n",
            "\u001b[0;31mNameError\u001b[0m: name 'normal_ad' is not defined"
          ]
        }
      ]
    },
    {
      "cell_type": "code",
      "metadata": {
        "id": "P6oy32WH-52M"
      },
      "source": [
        "r2_score(y_teste, diabetes_y_pred)\n",
        "\n",
        "r2_score(y_teste, diabetes_y_pred_bmi)\n",
        "\n",
        "r2_score(y_teste, diabetes_y_pred_bp)\n",
        "\n",
        "r2_score(y_teste, diabetes_y_pred_bmi_bp)"
      ],
      "execution_count": null,
      "outputs": []
    },
    {
      "cell_type": "code",
      "metadata": {
        "id": "BNPe9YhC_McN"
      },
      "source": [
        "plt.scatter(X_teste, y_teste,  color='black')\n",
        "plt.plot(X_teste, diabetes_y_pred, color='blue', linewidth=3)\n",
        "plt.show()\n",
        "\n",
        "plt.scatter(X_teste_bmi, y_teste,  color='black')\n",
        "plt.plot(X_teste_bmi, diabetes_y_pred_bmi, color='blue', linewidth=3)\n",
        "plt.show()\n",
        "\n",
        "plt.scatter(X_teste_bp, y_teste,  color='black')\n",
        "plt.plot(X_teste_bp, diabetes_y_pred_bp, color='blue', linewidth=3)\n",
        "plt.show()\n",
        "\n",
        "plt.scatter(X_teste_bmi_bp, y_teste,  color='black')\n",
        "plt.plot(X_teste_bmi_bp, diabetes_y_pred_bmi_bp, color='blue', linewidth=3)\n",
        "plt.show()"
      ],
      "execution_count": null,
      "outputs": []
    },
    {
      "cell_type": "markdown",
      "metadata": {
        "id": "MF7JzkH_Ddo8"
      },
      "source": [
        "É possível saber se duas variáveis possuem alguma relação entre si dentro de um conjunto de dados?\n",
        "\n",
        "Sem aprofundar nos conceitos estatísticos, podemos dizer que a correlação indica a interdependência entre duas ou mais variáveis. São vários métodos para calcular, um dos mais conhecidos é Coeficiente de Correlação de Pearson. Seu valor fica sempre entre -1 e 1. A correlação de Pearson, entretanto, mede a associação linear entre variáveis contínuas.\n",
        "\n",
        "Calculamos a correlação com o módulo Pandas e sua função corr(), que irá retornarm a correlação de cada coluna com as outras colunas."
      ]
    },
    {
      "cell_type": "code",
      "metadata": {
        "id": "M0Xh4SzsCXlH"
      },
      "source": [
        "cr = tabela.corr()\n",
        "\n",
        "print(cr)"
      ],
      "execution_count": null,
      "outputs": []
    }
  ]
}