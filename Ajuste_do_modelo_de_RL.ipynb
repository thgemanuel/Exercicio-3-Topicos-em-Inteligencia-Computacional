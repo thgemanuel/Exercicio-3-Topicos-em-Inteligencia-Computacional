{
  "nbformat": 4,
  "nbformat_minor": 0,
  "metadata": {
    "colab": {
      "name": "Ajuste do modelo de RL",
      "provenance": [],
      "collapsed_sections": [],
      "include_colab_link": true
    },
    "kernelspec": {
      "name": "python3",
      "display_name": "Python 3"
    }
  },
  "cells": [
    {
      "cell_type": "markdown",
      "metadata": {
        "id": "view-in-github",
        "colab_type": "text"
      },
      "source": [
        "<a href=\"https://colab.research.google.com/github/thgemanuel/Exercicio-3-Topicos-em-Inteligencia-Computacional/blob/main/Ajuste_do_modelo_de_RL.ipynb\" target=\"_parent\"><img src=\"https://colab.research.google.com/assets/colab-badge.svg\" alt=\"Open In Colab\"/></a>"
      ]
    },
    {
      "cell_type": "markdown",
      "metadata": {
        "id": "r4OQ6NSUAMFH"
      },
      "source": [
        "\n",
        "# **Ajuste do modelo de RL**\n"
      ]
    },
    {
      "cell_type": "markdown",
      "metadata": {
        "id": "wVhz5i7gXEon"
      },
      "source": [
        "# Exercício 3\n",
        "\n",
        "Aluno: Thiago Emanuel\n",
        "\n",
        "Considere, as características da base de dados Diabetes do exercício anterior:\n",
        "\n",
        "Para cada característica individualmente calcule o R2, mostre o histograma e o gráfico de resíduos, e calcule o teste de normalidade. Compare o resultado com a característica \"age\".\n",
        "Adicionalmente, também mostre o histograma e o gráfico de resíduos, para o processo com as duas características (regressão com duas variáveis) do exercício anterior."
      ]
    },
    {
      "cell_type": "markdown",
      "metadata": {
        "id": "gMQ5-gwtT7lE"
      },
      "source": [
        "\n",
        "# **Base de dados Diabetes**\n",
        "---\n",
        "\n"
      ]
    },
    {
      "cell_type": "code",
      "metadata": {
        "id": "GL_2XQEv_i9R",
        "colab": {
          "base_uri": "https://localhost:8080/",
          "height": 315
        },
        "outputId": "251e01aa-c6aa-47ea-955d-a0d324b4d3db"
      },
      "source": [
        "import matplotlib.pyplot as plt\n",
        "import numpy as np\n",
        "import pandas\n",
        "from sklearn import linear_model\n",
        "from sklearn.datasets import load_diabetes\n",
        "from statsmodels.stats.diagnostic import normal_ad\n",
        "from sklearn.metrics import r2_score\n",
        "\n",
        "diabetes = load_diabetes()\n",
        "y = np.array([0.6,-12,-2.5,2,-15,46,25,17.08,17,15.29,10,13.7,-3,24,14,16,-32,14,-0.9,-15])\n",
        "tabela = pandas.DataFrame(diabetes.data)\n",
        "tabela.columns = diabetes.feature_names\n",
        "tabela['y'] = diabetes.target\n",
        "\n",
        "plt.hist(y)\n",
        "plt.title('Histograma de y')\n",
        "plt.show()\n"
      ],
      "execution_count": 1,
      "outputs": [
        {
          "output_type": "stream",
          "name": "stderr",
          "text": [
            "/usr/local/lib/python3.7/dist-packages/statsmodels/tools/_testing.py:19: FutureWarning: pandas.util.testing is deprecated. Use the functions in the public API at pandas.testing instead.\n",
            "  import pandas.util.testing as tm\n"
          ]
        },
        {
          "output_type": "display_data",
          "data": {
            "image/png": "[encoded data removed]",
            "text/plain": [
              "<Figure size 432x288 with 1 Axes>"
            ]
          },
          "metadata": {
            "needs_background": "light"
          }
        }
      ]
    },
    {
      "cell_type": "code",
      "metadata": {
        "id": "RSMojpqf6z0w",
        "colab": {
          "base_uri": "https://localhost:8080/"
        },
        "outputId": "9807d70e-d99c-43e9-a5c8-155b126f5276"
      },
      "source": [
        "X = tabela['age']\n",
        "X_treinamento = X[:-20].array.to_numpy().reshape(-1,1)\n",
        "X_teste = X[-20:].array.to_numpy().reshape(-1,1)\n",
        "\n",
        "X_bmi = tabela['bmi']\n",
        "X_treinamento_bmi = X_bmi[:-20].array.to_numpy().reshape(-1,1)\n",
        "#Para validar o modelo, usei os 20 últimos registros\n",
        "X_teste_bmi = X_bmi[-20:].array.to_numpy().reshape(-1,1)\n",
        "\n",
        "X_bp = tabela['bp']\n",
        "X_treinamento_bp = X_bp[:-20].array.to_numpy().reshape(-1,1)\n",
        "#Para validar o modelo, usei os 20 últimos registros\n",
        "X_teste_bp = X_bp[-20:].array.to_numpy().reshape(-1,1)\n",
        "\n",
        "X_bmi_bp = tabela.loc[:,'bmi':'bp']\n",
        "X_treinamento_bmi_bp = X_bmi_bp.head(X_bmi_bp.shape[0] - 20)\n",
        "#Para validar o modelo, usei os 20 últimos registros\n",
        "X_teste_bmi_bp =  X_bmi_bp.tail(20)\n",
        "\n",
        "y = tabela['y']\n",
        "y_treinamento = y[:-20]\n",
        "y_teste = y[-20:].array.to_numpy().reshape(-1,1)\n",
        "\n",
        "\n",
        "regr = linear_model.LinearRegression()\n",
        "\n",
        "regr.fit(X_treinamento, y_treinamento)\n",
        "\n",
        "# treina o modelo com os dados treinamento\n",
        "regr.fit(X_treinamento, y_treinamento)\n",
        "\n",
        "#cria o modelo de regressão linear\n",
        "regr_bmi = linear_model.LinearRegression()\n",
        "\n",
        "# treina o modelo com os dados treinamento\n",
        "regr_bmi.fit(X_treinamento_bmi, y_treinamento)\n",
        "\n",
        "#cria o modelo de regressão linear\n",
        "regr_bp = linear_model.LinearRegression()\n",
        "\n",
        "# treina o modelo com os dados treinamento\n",
        "regr_bp.fit(X_treinamento_bp, y_treinamento)\n",
        "\n",
        "#cria o modelo de regressão linear\n",
        "regr_bmi_bp = linear_model.LinearRegression()\n",
        "\n",
        "# treina o modelo com os dados treinamento\n",
        "regr_bmi_bp.fit(X_treinamento_bmi_bp, y_treinamento)"
      ],
      "execution_count": 2,
      "outputs": [
        {
          "output_type": "execute_result",
          "data": {
            "text/plain": [
              "LinearRegression(copy_X=True, fit_intercept=True, n_jobs=None, normalize=False)"
            ]
          },
          "metadata": {},
          "execution_count": 2
        }
      ]
    },
    {
      "cell_type": "code",
      "metadata": {
        "id": "y0leyaaZ7M2x",
        "colab": {
          "base_uri": "https://localhost:8080/",
          "height": 1000
        },
        "outputId": "820097f6-d4bd-47f1-ce86-5eb1d194f6f8"
      },
      "source": [
        "diabetes_y_pred = regr.predict(X_teste)\n",
        "\n",
        "res = y_teste - diabetes_y_pred.reshape(-1,1)\n",
        "\n",
        "plt.hist(res)\n",
        "plt.title('Histograma dos resíduos da regressão - age')\n",
        "plt.show()\n",
        "\n",
        "# BMI\n",
        "diabetes_y_pred_bmi = regr_bmi.predict(X_teste_bmi)\n",
        "res_bmi = y_teste - diabetes_y_pred_bmi.reshape(-1,1)\n",
        "\n",
        "plt.hist(res_bmi)\n",
        "plt.title('Histograma dos resíduos da regressão - bmi')\n",
        "plt.show()\n",
        "\n",
        "# BP\n",
        "diabetes_y_pred_bp = regr_bp.predict(X_teste_bp)\n",
        "res_bp = y_teste - diabetes_y_pred_bp.reshape(-1,1)\n",
        "\n",
        "plt.hist(res_bp)\n",
        "plt.title('Histograma dos resíduos da regressão - bp')\n",
        "plt.show()\n",
        "\n",
        "# BMI_BP\n",
        "diabetes_y_pred_bmi_bp = regr_bmi_bp.predict(X_teste_bmi_bp)\n",
        "res_bmi_bp = y_teste - diabetes_y_pred_bmi_bp.reshape(-1,1)\n",
        "\n",
        "plt.hist(res_bmi_bp)\n",
        "plt.title('Histograma dos resíduos da regressão - bmi e pb')\n",
        "plt.show()"
      ],
      "execution_count": 3,
      "outputs": [
        {
          "output_type": "display_data",
          "data": {
            "image/png": "[encoded data removed]",
            "text/plain": [
              "<Figure size 432x288 with 1 Axes>"
            ]
          },
          "metadata": {
            "needs_background": "light"
          }
        },
        {
          "output_type": "display_data",
          "data": {
            "image/png": "[encoded data removed]",
            "text/plain": [
              "<Figure size 432x288 with 1 Axes>"
            ]
          },
          "metadata": {
            "needs_background": "light"
          }
        },
        {
          "output_type": "display_data",
          "data": {
            "image/png": "[encoded data removed]",
            "text/plain": [
              "<Figure size 432x288 with 1 Axes>"
            ]
          },
          "metadata": {
            "needs_background": "light"
          }
        },
        {
          "output_type": "display_data",
          "data": {
            "image/png": "[encoded data removed]",
            "text/plain": [
              "<Figure size 432x288 with 1 Axes>"
            ]
          },
          "metadata": {
            "needs_background": "light"
          }
        }
      ]
    },
    {
      "cell_type": "markdown",
      "metadata": {
        "id": "7gubjUEP8u8t"
      },
      "source": [
        "**O que esse gráfico nos diz?**"
      ]
    },
    {
      "cell_type": "code",
      "metadata": {
        "id": "NYUlCb-Z91SO",
        "colab": {
          "base_uri": "https://localhost:8080/"
        },
        "outputId": "0ed23ee5-cc82-44c1-8baa-a1355a14248a"
      },
      "source": [
        "p_value = normal_ad(res)[1]\n",
        "print('p-value abaixo 0.05 geralmente significa não normal:', round(p_value[0],2))\n",
        "\n",
        "p_value_bmi = normal_ad(res_bmi)[1]\n",
        "print('p-value abaixo 0.05 geralmente significa não normal:', round(p_value_bmi[0],2))\n",
        "\n",
        "p_value_bp = normal_ad(res_bp)[1]\n",
        "print('p-value abaixo 0.05 geralmente significa não normal:', round(p_value_bp[0],2))\n",
        "\n",
        "p_value_bmi_bp = normal_ad(res_bmi_bp)[1]\n",
        "print('p-value abaixo 0.05 geralmente significa não normal:', round(p_value_bmi_bp[0],2))"
      ],
      "execution_count": 4,
      "outputs": [
        {
          "output_type": "stream",
          "name": "stdout",
          "text": [
            "p-value abaixo 0.05 geralmente significa não normal: 0.04\n",
            "p-value abaixo 0.05 geralmente significa não normal: 0.51\n",
            "p-value abaixo 0.05 geralmente significa não normal: 0.18\n",
            "p-value abaixo 0.05 geralmente significa não normal: 0.15\n"
          ]
        }
      ]
    },
    {
      "cell_type": "code",
      "metadata": {
        "id": "P6oy32WH-52M",
        "outputId": "aefcb0e6-50fc-42c0-8432-f434c94e9f18",
        "colab": {
          "base_uri": "https://localhost:8080/"
        }
      },
      "source": [
        "print(r2_score(y_teste, diabetes_y_pred))\n",
        "\n",
        "print(r2_score(y_teste, diabetes_y_pred_bmi))\n",
        "\n",
        "r2_score(y_teste, diabetes_y_pred_bp))\n",
        "\n",
        "r2_score(y_teste, diabetes_y_pred_bmi_bp))"
      ],
      "execution_count": 5,
      "outputs": [
        {
          "output_type": "execute_result",
          "data": {
            "text/plain": [
              "0.46539551641633004"
            ]
          },
          "metadata": {},
          "execution_count": 5
        }
      ]
    },
    {
      "cell_type": "code",
      "metadata": {
        "id": "BNPe9YhC_McN",
        "outputId": "964e0264-f60a-4978-da47-35b30da63db7",
        "colab": {
          "base_uri": "https://localhost:8080/",
          "height": 761
        }
      },
      "source": [
        "plt.scatter(X_teste, y_teste,  color='black')\n",
        "plt.plot(X_teste, diabetes_y_pred, color='blue', linewidth=3)\n",
        "plt.show()\n",
        "\n",
        "plt.scatter(X_teste_bmi, y_teste,  color='black')\n",
        "plt.plot(X_teste_bmi, diabetes_y_pred_bmi, color='blue', linewidth=3)\n",
        "plt.show()\n",
        "\n",
        "plt.scatter(X_teste_bp, y_teste,  color='black')\n",
        "plt.plot(X_teste_bp, diabetes_y_pred_bp, color='blue', linewidth=3)\n",
        "plt.show()"
      ],
      "execution_count": 6,
      "outputs": [
        {
          "output_type": "display_data",
          "data": {
            "image/png": "[encoded data removed]",
            "text/plain": [
              "<Figure size 432x288 with 1 Axes>"
            ]
          },
          "metadata": {
            "needs_background": "light"
          }
        },
        {
          "output_type": "display_data",
          "data": {
            "image/png": "[encoded data removed]",
            "text/plain": [
              "<Figure size 432x288 with 1 Axes>"
            ]
          },
          "metadata": {
            "needs_background": "light"
          }
        },
        {
          "output_type": "display_data",
          "data": {
            "image/png": "[encoded data removed]",
            "text/plain": [
              "<Figure size 432x288 with 1 Axes>"
            ]
          },
          "metadata": {
            "needs_background": "light"
          }
        }
      ]
    },
    {
      "cell_type": "markdown",
      "metadata": {
        "id": "MF7JzkH_Ddo8"
      },
      "source": [
        "É possível saber se duas variáveis possuem alguma relação entre si dentro de um conjunto de dados?\n",
        "\n",
        "Sem aprofundar nos conceitos estatísticos, podemos dizer que a correlação indica a interdependência entre duas ou mais variáveis. São vários métodos para calcular, um dos mais conhecidos é Coeficiente de Correlação de Pearson. Seu valor fica sempre entre -1 e 1. A correlação de Pearson, entretanto, mede a associação linear entre variáveis contínuas.\n",
        "\n",
        "Calculamos a correlação com o módulo Pandas e sua função corr(), que irá retornarm a correlação de cada coluna com as outras colunas."
      ]
    },
    {
      "cell_type": "code",
      "metadata": {
        "id": "M0Xh4SzsCXlH",
        "outputId": "dc190ba2-daa3-448c-acd9-48396308fd31",
        "colab": {
          "base_uri": "https://localhost:8080/"
        }
      },
      "source": [
        "cr = tabela.corr()\n",
        "\n",
        "print(cr)"
      ],
      "execution_count": 7,
      "outputs": [
        {
          "output_type": "stream",
          "name": "stdout",
          "text": [
            "          age       sex       bmi  ...        s5        s6         y\n",
            "age  1.000000  0.173737  0.185085  ...  0.270777  0.301731  0.187889\n",
            "sex  0.173737  1.000000  0.088161  ...  0.149918  0.208133  0.043062\n",
            "bmi  0.185085  0.088161  1.000000  ...  0.446159  0.388680  0.586450\n",
            "bp   0.335427  0.241013  0.395415  ...  0.393478  0.390429  0.441484\n",
            "s1   0.260061  0.035277  0.249777  ...  0.515501  0.325717  0.212022\n",
            "s2   0.219243  0.142637  0.261170  ...  0.318353  0.290600  0.174054\n",
            "s3  -0.075181 -0.379090 -0.366811  ... -0.398577 -0.273697 -0.394789\n",
            "s4   0.203841  0.332115  0.413807  ...  0.617857  0.417212  0.430453\n",
            "s5   0.270777  0.149918  0.446159  ...  1.000000  0.464670  0.565883\n",
            "s6   0.301731  0.208133  0.388680  ...  0.464670  1.000000  0.382483\n",
            "y    0.187889  0.043062  0.586450  ...  0.565883  0.382483  1.000000\n",
            "\n",
            "[11 rows x 11 columns]\n"
          ]
        }
      ]
    }
  ]
}